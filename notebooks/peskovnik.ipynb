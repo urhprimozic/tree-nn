{
 "cells": [
  {
   "cell_type": "markdown",
   "metadata": {},
   "source": [
    "Kako dela autograd: "
   ]
  },
  {
   "cell_type": "code",
   "execution_count": 2,
   "metadata": {},
   "outputs": [
    {
     "data": {
      "text/plain": [
       "[Parameter containing:\n",
       " tensor([[0.3913, 0.1506],\n",
       "         [0.5278, 0.3653]], requires_grad=True),\n",
       " Parameter containing:\n",
       " tensor([ 0.5497, -0.4940], requires_grad=True),\n",
       " Parameter containing:\n",
       " tensor([[0.6631, 0.0845]], requires_grad=True),\n",
       " Parameter containing:\n",
       " tensor([-0.0214], requires_grad=True)]"
      ]
     },
     "execution_count": 2,
     "metadata": {},
     "output_type": "execute_result"
    }
   ],
   "source": [
    "import torch\n",
    "import torch.nn as nn\n",
    "from models import FeedForward\n",
    "\n",
    "\n",
    "model = FeedForward(2, 2, 1)\n",
    "list(model.parameters())"
   ]
  },
  {
   "cell_type": "code",
   "execution_count": 11,
   "metadata": {},
   "outputs": [
    {
     "name": "stdout",
     "output_type": "stream",
     "text": [
      "[tensor([1.0916, 0.3991], grad_fn=<ViewBackward0>), tensor([1.0916, 0.3991], grad_fn=<ReluBackward0>), tensor([1.2129, 0.4435], grad_fn=<MulBackward0>), tensor([0.8202], grad_fn=<ViewBackward0>)]\n"
     ]
    },
    {
     "data": {
      "text/plain": [
       "tensor(1.0916, grad_fn=<AddBackward0>)"
      ]
     },
     "execution_count": 11,
     "metadata": {},
     "output_type": "execute_result"
    }
   ],
   "source": [
    "x = torch.ones((2))\n",
    "print(model(x, training=True))\n",
    "\n",
    "# množimo iz desne s transposed matriko. TO je isto, kot če bi množil vrstico z vrstico\n",
    "torch.dot(list(model.parameters())[0][0], x) + list(model.parameters())[1][0]"
   ]
  },
  {
   "cell_type": "code",
   "execution_count": null,
   "metadata": {},
   "outputs": [
    {
     "data": {
      "text/plain": [
       "[tensor([1.0916, 0.3991], grad_fn=<ViewBackward0>),\n",
       " tensor([1.0916, 0.3991], grad_fn=<ReluBackward0>),\n",
       " tensor([1.2129, 0.4435], grad_fn=<MulBackward0>),\n",
       " tensor([0.8202], grad_fn=<ViewBackward0>)]"
      ]
     },
     "execution_count": 4,
     "metadata": {},
     "output_type": "execute_result"
    }
   ],
   "source": []
  }
 ],
 "metadata": {
  "kernelspec": {
   "display_name": "venv",
   "language": "python",
   "name": "python3"
  },
  "language_info": {
   "codemirror_mode": {
    "name": "ipython",
    "version": 3
   },
   "file_extension": ".py",
   "mimetype": "text/x-python",
   "name": "python",
   "nbconvert_exporter": "python",
   "pygments_lexer": "ipython3",
   "version": "3.12.3"
  }
 },
 "nbformat": 4,
 "nbformat_minor": 2
}
