{
 "cells": [
  {
   "cell_type": "markdown",
   "metadata": {},
   "source": [
    "# TODO\n",
    "**BE SURE TO ADD PATH TO `src/*` TO YOUR `ENVIROMENT/LIB/PYTHONVESRION/SITEPACKAGE/tnn.pth`** !\n",
    "# Introduction to Tree NN"
   ]
  },
  {
   "cell_type": "markdown",
   "metadata": {},
   "source": [
    "## Trees and DecisionUnits"
   ]
  },
  {
   "cell_type": "code",
   "execution_count": 2,
   "metadata": {},
   "outputs": [],
   "source": [
    "from tnn import DecisionUnit, Tree\n",
    "from models import Id\n",
    "import torch\n",
    "import torch.nn as nn\n",
    "\n",
    "# simple model\n",
    "class Double(nn.Module):\n",
    "    def forward(self, x, training=None):\n",
    "        return 2 * x\n",
    "\n",
    "# tree either doubles x or leaves it\n",
    "tree= Tree(1, [Id, Double()])\n",
    "\n",
    "# For educational purpuses:\n",
    "# We will set bias to 0 and weights to 0.5\n",
    "# and get an uniform distribution over paths \n",
    "with torch.no_grad():\n",
    "    tree.distribution.linear.weight.fill_(0.5)\n",
    "    tree.distribution.linear.bias.fill_(0)"
   ]
  },
  {
   "cell_type": "markdown",
   "metadata": {},
   "source": [
    "Lets sample a few outputs of this simple tree for input $[1]$ and calculate $E([1])$"
   ]
  },
  {
   "cell_type": "code",
   "execution_count": 43,
   "metadata": {},
   "outputs": [
    {
     "name": "stdout",
     "output_type": "stream",
     "text": [
      "input = tensor([1.])\n",
      "1.0;  2.0;  2.0;  2.0;  1.0;  \n",
      "E(Tree(x)) = tensor([1.5000], grad_fn=<ViewBackward0>)\n",
      "\n",
      "BATCHED INPUT:\n",
      "input=\n",
      " tensor([[0.],\n",
      "        [1.],\n",
      "        [2.],\n",
      "        [3.]]) \n",
      "\n",
      "E(Tree(batch)) = tensor([[0.0000],\n",
      "        [1.5000],\n",
      "        [3.0000],\n",
      "        [4.5000]], grad_fn=<SumBackward1>)\n"
     ]
    },
    {
     "ename": "NotImplementedError",
     "evalue": "",
     "output_type": "error",
     "traceback": [
      "\u001b[0;31m---------------------------------------------------------------------------\u001b[0m",
      "\u001b[0;31mNotImplementedError\u001b[0m                       Traceback (most recent call last)",
      "Cell \u001b[0;32mIn[43], line 20\u001b[0m\n\u001b[1;32m     16\u001b[0m E \u001b[38;5;241m=\u001b[39m tree\u001b[38;5;241m.\u001b[39mexpected_value(\u001b[38;5;28;01mlambda\u001b[39;00m z : z,batch)\n\u001b[1;32m     17\u001b[0m \u001b[38;5;28mprint\u001b[39m(\u001b[38;5;124mf\u001b[39m\u001b[38;5;124m\"\u001b[39m\u001b[38;5;124mE(Tree(batch)) = \u001b[39m\u001b[38;5;132;01m{\u001b[39;00mE\u001b[38;5;132;01m}\u001b[39;00m\u001b[38;5;124m\"\u001b[39m)\n\u001b[0;32m---> 20\u001b[0m \u001b[38;5;28;01mraise\u001b[39;00m \u001b[38;5;167;01mNotImplementedError\u001b[39;00m\n\u001b[1;32m     21\u001b[0m tree(batch, select_max\u001b[38;5;241m=\u001b[39m\u001b[38;5;28;01mFalse\u001b[39;00m)\n",
      "\u001b[0;31mNotImplementedError\u001b[0m: "
     ]
    }
   ],
   "source": [
    "x = torch.ones((1,))\n",
    "print(f\"input = {x}\")\n",
    "for i in range(5):\n",
    "    print(tree(x, select_max=False).item(), end=\";  \" )\n",
    "print()\n",
    "\n",
    "\n",
    "E = tree.expected_value(lambda z : z,x)\n",
    "print(f\"E(Tree(x)) = {E}\")\n",
    "\n",
    "# batched input:\n",
    "print(\"\\nBATCHED INPUT:\")\n",
    "batch = torch.tensor([[0], [1], [2], [3]], dtype=torch.float)\n",
    "print(\"input=\\n\", batch, \"\\n\")\n",
    "\n",
    "E = tree.expected_value(lambda z : z,batch)\n",
    "print(f\"E(Tree(batch)) = {E}\")\n",
    "\n",
    "\n",
    "raise NotImplementedError\n",
    "tree(batch, select_max=False)"
   ]
  },
  {
   "cell_type": "markdown",
   "metadata": {},
   "source": [
    "# Training\n",
    "Different mothods of training will be shown. We will try to model a following function:\n",
    "$$\n",
    "f(x,y) = \\begin{cases}\n",
    "xy & x > 0, y > 0 \\\\\n",
    "x + y & x > 0, y \\leq  0 \\\\\n",
    "2x \\leq  0, y \\leq  0 \\\\ \n",
    "y & x \\leq 0, y > 0 \\\\\n",
    "\\end{cases}\n",
    "$$"
   ]
  },
  {
   "cell_type": "code",
   "execution_count": 3,
   "metadata": {},
   "outputs": [],
   "source": [
    "def f(x, y):\n",
    "    if x > 0:\n",
    "        if y > 0:\n",
    "            return x * y \n",
    "        else:\n",
    "            return x + y\n",
    "    else:\n",
    "        if y > 0:\n",
    "            return y \n",
    "        else:\n",
    "            return 2*x \n",
    "\n",
    "def vector_f(z):\n",
    "    return f(z[0], z[1])\n",
    "\n",
    "# get training data:\n",
    "n_points = 100\n",
    "n_data = n_points ** 2 \n",
    "points = torch.linspace(-5, 5, n_points)\n",
    "X = torch.zeros((n_data, 2))\n",
    "Z = torch.zeros((n_data, 1))\n",
    "for index_x in range(n_points):\n",
    "    for index_y in range(n_points):\n",
    "        x = points[index_x]\n",
    "        y = points[index_y]\n",
    "        X[index_y + index_x * n_points] = torch.tensor([x, y])\n",
    "        Z[index_y + index_x * n_points] = f(x, y)\n",
    "\n",
    "# get testing data:\n",
    "n_points_training = 31\n",
    "n_data_training = n_points_training ** 2 \n",
    "points = torch.linspace(-5, 5, n_points_training)\n",
    "test_X = torch.zeros((n_data_training, 2))\n",
    "test_Z = torch.zeros((n_data_training, 1))\n",
    "for index_x in range(n_points_training):\n",
    "    for index_y in range(n_points_training):\n",
    "        x = points[index_x]\n",
    "        y = points[index_y]\n",
    "        test_X[index_y + index_x * n_points_training] = torch.tensor([x, y])\n",
    "        test_Z[index_y + index_x * n_points_training] = f(x, y)\n",
    "\n"
   ]
  },
  {
   "cell_type": "code",
   "execution_count": 4,
   "metadata": {},
   "outputs": [
    {
     "data": {
      "text/plain": [
       "(torch.Size([10000, 2]), torch.Size([10000, 1]))"
      ]
     },
     "execution_count": 4,
     "metadata": {},
     "output_type": "execute_result"
    }
   ],
   "source": [
    "for i in range(X.shape[0]):\n",
    "    if not (Z[i] == vector_f(X[i])):\n",
    "        raise ValueError\n",
    "X.shape, Z.shape"
   ]
  },
  {
   "cell_type": "markdown",
   "metadata": {},
   "source": [
    "## Shallow Tree model"
   ]
  },
  {
   "cell_type": "code",
   "execution_count": 5,
   "metadata": {},
   "outputs": [
    {
     "data": {
      "text/plain": [
       "32"
      ]
     },
     "execution_count": 5,
     "metadata": {},
     "output_type": "execute_result"
    }
   ],
   "source": [
    "from models import FeedForward\n",
    "tree = Tree(2, [FeedForward(2, 3, 1), FeedForward(2, 3, 1)])\n",
    "tree.n_params()"
   ]
  },
  {
   "cell_type": "markdown",
   "metadata": {},
   "source": [
    "## Baseline \n",
    "We will compare the performance of different training settings to different simple Feedforward networks with the similar numbers of parameters"
   ]
  },
  {
   "cell_type": "code",
   "execution_count": 6,
   "metadata": {},
   "outputs": [],
   "source": [
    "# tree has  6 + 13 + 13 = 32 parameters (6 for decision unit, 13 for Feedforward networks)\n",
    "n_params = tree.n_params()\n",
    "baseline_models = [FeedForward(2,4,3 , 1), FeedForward(2,4,4,1), FeedForward(2, 8, 1)   ]"
   ]
  },
  {
   "cell_type": "code",
   "execution_count": 7,
   "metadata": {},
   "outputs": [
    {
     "name": "stderr",
     "output_type": "stream",
     "text": [
      "  0%|          | 2/1000 [00:00<01:23, 11.99it/s]"
     ]
    },
    {
     "name": "stdout",
     "output_type": "stream",
     "text": [
      "Epoch #1: Training error: 28.823646545410156, validaion error: 31.348154067993164\n"
     ]
    },
    {
     "name": "stderr",
     "output_type": "stream",
     "text": [
      " 10%|█         | 102/1000 [00:07<01:06, 13.45it/s]"
     ]
    },
    {
     "name": "stdout",
     "output_type": "stream",
     "text": [
      "Epoch #101: Training error: 13.223487854003906, validaion error: 14.121841430664062\n"
     ]
    },
    {
     "name": "stderr",
     "output_type": "stream",
     "text": [
      " 20%|██        | 202/1000 [00:15<01:03, 12.51it/s]"
     ]
    },
    {
     "name": "stdout",
     "output_type": "stream",
     "text": [
      "Epoch #201: Training error: 13.202718734741211, validaion error: 14.537351608276367\n"
     ]
    },
    {
     "name": "stderr",
     "output_type": "stream",
     "text": [
      " 30%|███       | 302/1000 [00:23<00:55, 12.60it/s]"
     ]
    },
    {
     "name": "stdout",
     "output_type": "stream",
     "text": [
      "Epoch #301: Training error: 13.38393783569336, validaion error: 14.497243881225586\n"
     ]
    },
    {
     "name": "stderr",
     "output_type": "stream",
     "text": [
      " 40%|████      | 402/1000 [00:31<00:46, 12.74it/s]"
     ]
    },
    {
     "name": "stdout",
     "output_type": "stream",
     "text": [
      "Epoch #401: Training error: 13.49802017211914, validaion error: 14.351887702941895\n"
     ]
    },
    {
     "name": "stderr",
     "output_type": "stream",
     "text": [
      " 50%|█████     | 502/1000 [00:39<00:40, 12.30it/s]"
     ]
    },
    {
     "name": "stdout",
     "output_type": "stream",
     "text": [
      "Epoch #501: Training error: 13.23112964630127, validaion error: 14.34230899810791\n"
     ]
    },
    {
     "name": "stderr",
     "output_type": "stream",
     "text": [
      " 60%|██████    | 602/1000 [00:47<00:32, 12.11it/s]"
     ]
    },
    {
     "name": "stdout",
     "output_type": "stream",
     "text": [
      "Epoch #601: Training error: 13.264890670776367, validaion error: 14.799792289733887\n"
     ]
    },
    {
     "name": "stderr",
     "output_type": "stream",
     "text": [
      " 70%|███████   | 702/1000 [00:55<00:24, 12.34it/s]"
     ]
    },
    {
     "name": "stdout",
     "output_type": "stream",
     "text": [
      "Epoch #701: Training error: 13.403862953186035, validaion error: 14.4959716796875\n"
     ]
    },
    {
     "name": "stderr",
     "output_type": "stream",
     "text": [
      " 80%|████████  | 802/1000 [01:03<00:16, 12.26it/s]"
     ]
    },
    {
     "name": "stdout",
     "output_type": "stream",
     "text": [
      "Epoch #801: Training error: 13.484347343444824, validaion error: 14.290173530578613\n"
     ]
    },
    {
     "name": "stderr",
     "output_type": "stream",
     "text": [
      " 90%|█████████ | 902/1000 [01:11<00:08, 12.15it/s]"
     ]
    },
    {
     "name": "stdout",
     "output_type": "stream",
     "text": [
      "Epoch #901: Training error: 13.251842498779297, validaion error: 13.946998596191406\n"
     ]
    },
    {
     "name": "stderr",
     "output_type": "stream",
     "text": [
      "100%|██████████| 1000/1000 [01:19<00:00, 12.57it/s]\n"
     ]
    }
   ],
   "source": [
    "from torch.optim import Adam\n",
    "from tqdm import tqdm\n",
    "from torch.optim.lr_scheduler import ExponentialLR, ReduceLROnPlateau\n",
    "\n",
    "optimisers = [Adam(model.parameters(), lr=0.01) for model in baseline_models]\n",
    "\n",
    "\n",
    "opt = optimisers[0]\n",
    "scheduler = ReduceLROnPlateau(opt, 'min', factor=0.7)\n",
    "model = baseline_models[0]\n",
    "\n",
    "n_epoch = 1000\n",
    "batch_size = 200\n",
    "mse = torch.nn.MSELoss()\n",
    "\n",
    "\n",
    "training_errors = []\n",
    "validation_errors = [] \n",
    "\n",
    "for epoch in tqdm(range(n_epoch), total=n_epoch):\n",
    "    for batch_index in range(n_data // batch_size):\n",
    "        ############\n",
    "        # get batch\n",
    "        ############\n",
    "\n",
    "        start = batch_size * batch_index\n",
    "        stop = batch_size * (batch_index + 1)\n",
    "        if batch_index == (n_data // batch_size) - 1:\n",
    "            stop = n_data\n",
    "        batchX = X[start:stop]\n",
    "        batchZ = Z[start:stop]\n",
    "\n",
    "        ############\n",
    "        # train on batch\n",
    "        ############\n",
    "\n",
    "        # reset gradients\n",
    "        opt.zero_grad()\n",
    "        # get predictions and cost function\n",
    "        outputs = model(batchX)\n",
    "        loss = mse(outputs, batchZ)\n",
    "        # calculate gradients\n",
    "        loss.backward()\n",
    "        # one step of optimisation\n",
    "        opt.step()\n",
    "    \n",
    "\n",
    "    # collect results\n",
    "    training_error = mse(model(X), Z)\n",
    "    validation_error = mse(model(test_X), test_Z)\n",
    "    training_errors.append(training_error)\n",
    "    validation_errors.append(validation_error)\n",
    "\n",
    "\n",
    "    # change learnign rate\n",
    "    scheduler.step(validation_error)\n",
    "\n",
    "    if epoch % 100 == 0:\n",
    "        print(f\"Epoch #{epoch +1}: Training error: {training_error}, validaion error: {validation_error}\")"
   ]
  },
  {
   "cell_type": "code",
   "execution_count": 8,
   "metadata": {},
   "outputs": [
    {
     "data": {
      "image/png": "[encoded data removed]",
      "text/plain": [
       "<Figure size 640x480 with 1 Axes>"
      ]
     },
     "metadata": {},
     "output_type": "display_data"
    }
   ],
   "source": [
    "# plot errors\n",
    "import matplotlib.pyplot as plt\n",
    "\n",
    "#deatach all \n",
    "def deatach_list(lst):\n",
    "    ans = []\n",
    "    for x in lst:\n",
    "        y = x.detach().numpy()\n",
    "        ans.append(y)\n",
    "    return ans\n",
    "\n",
    "\n",
    "plt.plot(deatach_list(training_errors), label=\"training error\")\n",
    "plt.plot(deatach_list(validation_errors), label=\"validation error\")\n",
    "plt.legend()\n",
    "plt.title(\"Training and validation loss of feedforward model\")\n",
    "plt.show()\n"
   ]
  },
  {
   "cell_type": "markdown",
   "metadata": {},
   "source": [
    "## Primitive training without additional cost function\n",
    "We can just minimalize E[L(x)]. Bad performance expected."
   ]
  },
  {
   "cell_type": "code",
   "execution_count": 10,
   "metadata": {},
   "outputs": [
    {
     "name": "stderr",
     "output_type": "stream",
     "text": [
      "  0%|          | 1/1000 [00:15<4:17:56, 15.49s/it]"
     ]
    },
    {
     "name": "stdout",
     "output_type": "stream",
     "text": [
      "Epoch #1: Training error: 26.565563201904297, validaion error: 2.7715392112731934\n"
     ]
    },
    {
     "name": "stderr",
     "output_type": "stream",
     "text": [
      "  1%|▏         | 14/1000 [03:45<4:25:15, 16.14s/it]\n"
     ]
    },
    {
     "ename": "KeyboardInterrupt",
     "evalue": "",
     "output_type": "error",
     "traceback": [
      "\u001b[0;31m---------------------------------------------------------------------------\u001b[0m",
      "\u001b[0;31mKeyboardInterrupt\u001b[0m                         Traceback (most recent call last)",
      "Cell \u001b[0;32mIn[10], line 46\u001b[0m\n\u001b[1;32m     44\u001b[0m expected_loss \u001b[38;5;241m=\u001b[39m \u001b[38;5;241m0\u001b[39m\n\u001b[1;32m     45\u001b[0m \u001b[38;5;28;01mfor\u001b[39;00m x, z \u001b[38;5;129;01min\u001b[39;00m \u001b[38;5;28mzip\u001b[39m(batchX, batchZ):\n\u001b[0;32m---> 46\u001b[0m     expected_loss \u001b[38;5;241m+\u001b[39m\u001b[38;5;241m=\u001b[39m \u001b[43mtree\u001b[49m\u001b[38;5;241;43m.\u001b[39;49m\u001b[43mexpected_value\u001b[49m\u001b[43m(\u001b[49m\u001b[38;5;28;43;01mlambda\u001b[39;49;00m\u001b[43m \u001b[49m\u001b[43my\u001b[49m\u001b[43m:\u001b[49m\u001b[43m \u001b[49m\u001b[43mmse\u001b[49m\u001b[43m(\u001b[49m\u001b[43my\u001b[49m\u001b[43m,\u001b[49m\u001b[43m \u001b[49m\u001b[43mz\u001b[49m\u001b[43m)\u001b[49m\u001b[43m,\u001b[49m\u001b[43m \u001b[49m\u001b[43mx\u001b[49m\u001b[43m)\u001b[49m\n\u001b[1;32m     47\u001b[0m expected_loss \u001b[38;5;241m/\u001b[39m\u001b[38;5;241m=\u001b[39m batch_size\n\u001b[1;32m     49\u001b[0m \u001b[38;5;66;03m# calculate gradients\u001b[39;00m\n",
      "File \u001b[0;32m~/Documents/fmf/magistrska-naloga/tree-nn/src/tnn.py:158\u001b[0m, in \u001b[0;36mTree.expected_value\u001b[0;34m(self, f, x, eps, training)\u001b[0m\n\u001b[1;32m    155\u001b[0m \u001b[38;5;28;01mfor\u001b[39;00m index, p \u001b[38;5;129;01min\u001b[39;00m \u001b[38;5;28menumerate\u001b[39m(probs):\n\u001b[1;32m    156\u001b[0m     \u001b[38;5;66;03m# get model - model is TreeModelContainer, so it has expected_value()\u001b[39;00m\n\u001b[1;32m    157\u001b[0m     model \u001b[38;5;241m=\u001b[39m \u001b[38;5;28mself\u001b[39m\u001b[38;5;241m.\u001b[39mbranches[index]\n\u001b[0;32m--> 158\u001b[0m     E \u001b[38;5;241m+\u001b[39m\u001b[38;5;241m=\u001b[39m p \u001b[38;5;241m*\u001b[39m \u001b[43mmodel\u001b[49m\u001b[38;5;241;43m.\u001b[39;49m\u001b[43mexpected_value\u001b[49m\u001b[43m(\u001b[49m\u001b[43mf\u001b[49m\u001b[43m,\u001b[49m\u001b[43m \u001b[49m\u001b[43mx\u001b[49m\u001b[43m,\u001b[49m\u001b[43m \u001b[49m\u001b[43mtraining\u001b[49m\u001b[38;5;241;43m=\u001b[39;49m\u001b[43mtraining\u001b[49m\u001b[43m)\u001b[49m\n\u001b[1;32m    159\u001b[0m \u001b[38;5;28;01mreturn\u001b[39;00m E\n",
      "File \u001b[0;32m~/Documents/fmf/magistrska-naloga/tree-nn/src/tnn.py:73\u001b[0m, in \u001b[0;36mTreeModelContainer.expected_value\u001b[0;34m(self, f, x, training)\u001b[0m\n\u001b[1;32m     71\u001b[0m     \u001b[38;5;28;01mreturn\u001b[39;00m \u001b[38;5;28mself\u001b[39m\u001b[38;5;241m.\u001b[39mmodel\u001b[38;5;241m.\u001b[39mexpected_value(f, x, training\u001b[38;5;241m=\u001b[39mtraining)\n\u001b[1;32m     72\u001b[0m \u001b[38;5;28;01melse\u001b[39;00m:\n\u001b[0;32m---> 73\u001b[0m     \u001b[38;5;28;01mreturn\u001b[39;00m f(\u001b[38;5;28;43mself\u001b[39;49m\u001b[38;5;241;43m.\u001b[39;49m\u001b[43mmodel\u001b[49m\u001b[43m(\u001b[49m\u001b[43mx\u001b[49m\u001b[43m,\u001b[49m\u001b[43m \u001b[49m\u001b[43mtraining\u001b[49m\u001b[38;5;241;43m=\u001b[39;49m\u001b[43mtraining\u001b[49m\u001b[43m)\u001b[49m)\n",
      "File \u001b[0;32m~/Documents/fmf/magistrska-naloga/magisterij/venv/lib/python3.12/site-packages/torch/nn/modules/module.py:1736\u001b[0m, in \u001b[0;36mModule._wrapped_call_impl\u001b[0;34m(self, *args, **kwargs)\u001b[0m\n\u001b[1;32m   1734\u001b[0m     \u001b[38;5;28;01mreturn\u001b[39;00m \u001b[38;5;28mself\u001b[39m\u001b[38;5;241m.\u001b[39m_compiled_call_impl(\u001b[38;5;241m*\u001b[39margs, \u001b[38;5;241m*\u001b[39m\u001b[38;5;241m*\u001b[39mkwargs)  \u001b[38;5;66;03m# type: ignore[misc]\u001b[39;00m\n\u001b[1;32m   1735\u001b[0m \u001b[38;5;28;01melse\u001b[39;00m:\n\u001b[0;32m-> 1736\u001b[0m     \u001b[38;5;28;01mreturn\u001b[39;00m \u001b[38;5;28;43mself\u001b[39;49m\u001b[38;5;241;43m.\u001b[39;49m\u001b[43m_call_impl\u001b[49m\u001b[43m(\u001b[49m\u001b[38;5;241;43m*\u001b[39;49m\u001b[43margs\u001b[49m\u001b[43m,\u001b[49m\u001b[43m \u001b[49m\u001b[38;5;241;43m*\u001b[39;49m\u001b[38;5;241;43m*\u001b[39;49m\u001b[43mkwargs\u001b[49m\u001b[43m)\u001b[49m\n",
      "File \u001b[0;32m~/Documents/fmf/magistrska-naloga/magisterij/venv/lib/python3.12/site-packages/torch/nn/modules/module.py:1747\u001b[0m, in \u001b[0;36mModule._call_impl\u001b[0;34m(self, *args, **kwargs)\u001b[0m\n\u001b[1;32m   1742\u001b[0m \u001b[38;5;66;03m# If we don't have any hooks, we want to skip the rest of the logic in\u001b[39;00m\n\u001b[1;32m   1743\u001b[0m \u001b[38;5;66;03m# this function, and just call forward.\u001b[39;00m\n\u001b[1;32m   1744\u001b[0m \u001b[38;5;28;01mif\u001b[39;00m \u001b[38;5;129;01mnot\u001b[39;00m (\u001b[38;5;28mself\u001b[39m\u001b[38;5;241m.\u001b[39m_backward_hooks \u001b[38;5;129;01mor\u001b[39;00m \u001b[38;5;28mself\u001b[39m\u001b[38;5;241m.\u001b[39m_backward_pre_hooks \u001b[38;5;129;01mor\u001b[39;00m \u001b[38;5;28mself\u001b[39m\u001b[38;5;241m.\u001b[39m_forward_hooks \u001b[38;5;129;01mor\u001b[39;00m \u001b[38;5;28mself\u001b[39m\u001b[38;5;241m.\u001b[39m_forward_pre_hooks\n\u001b[1;32m   1745\u001b[0m         \u001b[38;5;129;01mor\u001b[39;00m _global_backward_pre_hooks \u001b[38;5;129;01mor\u001b[39;00m _global_backward_hooks\n\u001b[1;32m   1746\u001b[0m         \u001b[38;5;129;01mor\u001b[39;00m _global_forward_hooks \u001b[38;5;129;01mor\u001b[39;00m _global_forward_pre_hooks):\n\u001b[0;32m-> 1747\u001b[0m     \u001b[38;5;28;01mreturn\u001b[39;00m \u001b[43mforward_call\u001b[49m\u001b[43m(\u001b[49m\u001b[38;5;241;43m*\u001b[39;49m\u001b[43margs\u001b[49m\u001b[43m,\u001b[49m\u001b[43m \u001b[49m\u001b[38;5;241;43m*\u001b[39;49m\u001b[38;5;241;43m*\u001b[39;49m\u001b[43mkwargs\u001b[49m\u001b[43m)\u001b[49m\n\u001b[1;32m   1749\u001b[0m result \u001b[38;5;241m=\u001b[39m \u001b[38;5;28;01mNone\u001b[39;00m\n\u001b[1;32m   1750\u001b[0m called_always_called_hooks \u001b[38;5;241m=\u001b[39m \u001b[38;5;28mset\u001b[39m()\n",
      "File \u001b[0;32m~/Documents/fmf/magistrska-naloga/tree-nn/src/models.py:34\u001b[0m, in \u001b[0;36mFeedForward.forward\u001b[0;34m(self, x, training)\u001b[0m\n\u001b[1;32m     32\u001b[0m     \u001b[38;5;28;01mreturn\u001b[39;00m ans\n\u001b[1;32m     33\u001b[0m \u001b[38;5;28;01melse\u001b[39;00m:\n\u001b[0;32m---> 34\u001b[0m     \u001b[38;5;28;01mreturn\u001b[39;00m \u001b[38;5;28;43mself\u001b[39;49m\u001b[38;5;241;43m.\u001b[39;49m\u001b[43mnet\u001b[49m\u001b[43m(\u001b[49m\u001b[43mx\u001b[49m\u001b[43m)\u001b[49m\n",
      "File \u001b[0;32m~/Documents/fmf/magistrska-naloga/magisterij/venv/lib/python3.12/site-packages/torch/nn/modules/module.py:1736\u001b[0m, in \u001b[0;36mModule._wrapped_call_impl\u001b[0;34m(self, *args, **kwargs)\u001b[0m\n\u001b[1;32m   1734\u001b[0m     \u001b[38;5;28;01mreturn\u001b[39;00m \u001b[38;5;28mself\u001b[39m\u001b[38;5;241m.\u001b[39m_compiled_call_impl(\u001b[38;5;241m*\u001b[39margs, \u001b[38;5;241m*\u001b[39m\u001b[38;5;241m*\u001b[39mkwargs)  \u001b[38;5;66;03m# type: ignore[misc]\u001b[39;00m\n\u001b[1;32m   1735\u001b[0m \u001b[38;5;28;01melse\u001b[39;00m:\n\u001b[0;32m-> 1736\u001b[0m     \u001b[38;5;28;01mreturn\u001b[39;00m \u001b[38;5;28;43mself\u001b[39;49m\u001b[38;5;241;43m.\u001b[39;49m\u001b[43m_call_impl\u001b[49m\u001b[43m(\u001b[49m\u001b[38;5;241;43m*\u001b[39;49m\u001b[43margs\u001b[49m\u001b[43m,\u001b[49m\u001b[43m \u001b[49m\u001b[38;5;241;43m*\u001b[39;49m\u001b[38;5;241;43m*\u001b[39;49m\u001b[43mkwargs\u001b[49m\u001b[43m)\u001b[49m\n",
      "File \u001b[0;32m~/Documents/fmf/magistrska-naloga/magisterij/venv/lib/python3.12/site-packages/torch/nn/modules/module.py:1747\u001b[0m, in \u001b[0;36mModule._call_impl\u001b[0;34m(self, *args, **kwargs)\u001b[0m\n\u001b[1;32m   1742\u001b[0m \u001b[38;5;66;03m# If we don't have any hooks, we want to skip the rest of the logic in\u001b[39;00m\n\u001b[1;32m   1743\u001b[0m \u001b[38;5;66;03m# this function, and just call forward.\u001b[39;00m\n\u001b[1;32m   1744\u001b[0m \u001b[38;5;28;01mif\u001b[39;00m \u001b[38;5;129;01mnot\u001b[39;00m (\u001b[38;5;28mself\u001b[39m\u001b[38;5;241m.\u001b[39m_backward_hooks \u001b[38;5;129;01mor\u001b[39;00m \u001b[38;5;28mself\u001b[39m\u001b[38;5;241m.\u001b[39m_backward_pre_hooks \u001b[38;5;129;01mor\u001b[39;00m \u001b[38;5;28mself\u001b[39m\u001b[38;5;241m.\u001b[39m_forward_hooks \u001b[38;5;129;01mor\u001b[39;00m \u001b[38;5;28mself\u001b[39m\u001b[38;5;241m.\u001b[39m_forward_pre_hooks\n\u001b[1;32m   1745\u001b[0m         \u001b[38;5;129;01mor\u001b[39;00m _global_backward_pre_hooks \u001b[38;5;129;01mor\u001b[39;00m _global_backward_hooks\n\u001b[1;32m   1746\u001b[0m         \u001b[38;5;129;01mor\u001b[39;00m _global_forward_hooks \u001b[38;5;129;01mor\u001b[39;00m _global_forward_pre_hooks):\n\u001b[0;32m-> 1747\u001b[0m     \u001b[38;5;28;01mreturn\u001b[39;00m \u001b[43mforward_call\u001b[49m\u001b[43m(\u001b[49m\u001b[38;5;241;43m*\u001b[39;49m\u001b[43margs\u001b[49m\u001b[43m,\u001b[49m\u001b[43m \u001b[49m\u001b[38;5;241;43m*\u001b[39;49m\u001b[38;5;241;43m*\u001b[39;49m\u001b[43mkwargs\u001b[49m\u001b[43m)\u001b[49m\n\u001b[1;32m   1749\u001b[0m result \u001b[38;5;241m=\u001b[39m \u001b[38;5;28;01mNone\u001b[39;00m\n\u001b[1;32m   1750\u001b[0m called_always_called_hooks \u001b[38;5;241m=\u001b[39m \u001b[38;5;28mset\u001b[39m()\n",
      "File \u001b[0;32m~/Documents/fmf/magistrska-naloga/magisterij/venv/lib/python3.12/site-packages/torch/nn/modules/container.py:250\u001b[0m, in \u001b[0;36mSequential.forward\u001b[0;34m(self, input)\u001b[0m\n\u001b[1;32m    248\u001b[0m \u001b[38;5;28;01mdef\u001b[39;00m \u001b[38;5;21mforward\u001b[39m(\u001b[38;5;28mself\u001b[39m, \u001b[38;5;28minput\u001b[39m):\n\u001b[1;32m    249\u001b[0m     \u001b[38;5;28;01mfor\u001b[39;00m module \u001b[38;5;129;01min\u001b[39;00m \u001b[38;5;28mself\u001b[39m:\n\u001b[0;32m--> 250\u001b[0m         \u001b[38;5;28minput\u001b[39m \u001b[38;5;241m=\u001b[39m \u001b[43mmodule\u001b[49m\u001b[43m(\u001b[49m\u001b[38;5;28;43minput\u001b[39;49m\u001b[43m)\u001b[49m\n\u001b[1;32m    251\u001b[0m     \u001b[38;5;28;01mreturn\u001b[39;00m \u001b[38;5;28minput\u001b[39m\n",
      "File \u001b[0;32m~/Documents/fmf/magistrska-naloga/magisterij/venv/lib/python3.12/site-packages/torch/nn/modules/module.py:1736\u001b[0m, in \u001b[0;36mModule._wrapped_call_impl\u001b[0;34m(self, *args, **kwargs)\u001b[0m\n\u001b[1;32m   1734\u001b[0m     \u001b[38;5;28;01mreturn\u001b[39;00m \u001b[38;5;28mself\u001b[39m\u001b[38;5;241m.\u001b[39m_compiled_call_impl(\u001b[38;5;241m*\u001b[39margs, \u001b[38;5;241m*\u001b[39m\u001b[38;5;241m*\u001b[39mkwargs)  \u001b[38;5;66;03m# type: ignore[misc]\u001b[39;00m\n\u001b[1;32m   1735\u001b[0m \u001b[38;5;28;01melse\u001b[39;00m:\n\u001b[0;32m-> 1736\u001b[0m     \u001b[38;5;28;01mreturn\u001b[39;00m \u001b[38;5;28;43mself\u001b[39;49m\u001b[38;5;241;43m.\u001b[39;49m\u001b[43m_call_impl\u001b[49m\u001b[43m(\u001b[49m\u001b[38;5;241;43m*\u001b[39;49m\u001b[43margs\u001b[49m\u001b[43m,\u001b[49m\u001b[43m \u001b[49m\u001b[38;5;241;43m*\u001b[39;49m\u001b[38;5;241;43m*\u001b[39;49m\u001b[43mkwargs\u001b[49m\u001b[43m)\u001b[49m\n",
      "File \u001b[0;32m~/Documents/fmf/magistrska-naloga/magisterij/venv/lib/python3.12/site-packages/torch/nn/modules/module.py:1747\u001b[0m, in \u001b[0;36mModule._call_impl\u001b[0;34m(self, *args, **kwargs)\u001b[0m\n\u001b[1;32m   1742\u001b[0m \u001b[38;5;66;03m# If we don't have any hooks, we want to skip the rest of the logic in\u001b[39;00m\n\u001b[1;32m   1743\u001b[0m \u001b[38;5;66;03m# this function, and just call forward.\u001b[39;00m\n\u001b[1;32m   1744\u001b[0m \u001b[38;5;28;01mif\u001b[39;00m \u001b[38;5;129;01mnot\u001b[39;00m (\u001b[38;5;28mself\u001b[39m\u001b[38;5;241m.\u001b[39m_backward_hooks \u001b[38;5;129;01mor\u001b[39;00m \u001b[38;5;28mself\u001b[39m\u001b[38;5;241m.\u001b[39m_backward_pre_hooks \u001b[38;5;129;01mor\u001b[39;00m \u001b[38;5;28mself\u001b[39m\u001b[38;5;241m.\u001b[39m_forward_hooks \u001b[38;5;129;01mor\u001b[39;00m \u001b[38;5;28mself\u001b[39m\u001b[38;5;241m.\u001b[39m_forward_pre_hooks\n\u001b[1;32m   1745\u001b[0m         \u001b[38;5;129;01mor\u001b[39;00m _global_backward_pre_hooks \u001b[38;5;129;01mor\u001b[39;00m _global_backward_hooks\n\u001b[1;32m   1746\u001b[0m         \u001b[38;5;129;01mor\u001b[39;00m _global_forward_hooks \u001b[38;5;129;01mor\u001b[39;00m _global_forward_pre_hooks):\n\u001b[0;32m-> 1747\u001b[0m     \u001b[38;5;28;01mreturn\u001b[39;00m \u001b[43mforward_call\u001b[49m\u001b[43m(\u001b[49m\u001b[38;5;241;43m*\u001b[39;49m\u001b[43margs\u001b[49m\u001b[43m,\u001b[49m\u001b[43m \u001b[49m\u001b[38;5;241;43m*\u001b[39;49m\u001b[38;5;241;43m*\u001b[39;49m\u001b[43mkwargs\u001b[49m\u001b[43m)\u001b[49m\n\u001b[1;32m   1749\u001b[0m result \u001b[38;5;241m=\u001b[39m \u001b[38;5;28;01mNone\u001b[39;00m\n\u001b[1;32m   1750\u001b[0m called_always_called_hooks \u001b[38;5;241m=\u001b[39m \u001b[38;5;28mset\u001b[39m()\n",
      "File \u001b[0;32m~/Documents/fmf/magistrska-naloga/magisterij/venv/lib/python3.12/site-packages/torch/nn/modules/linear.py:125\u001b[0m, in \u001b[0;36mLinear.forward\u001b[0;34m(self, input)\u001b[0m\n\u001b[1;32m    124\u001b[0m \u001b[38;5;28;01mdef\u001b[39;00m \u001b[38;5;21mforward\u001b[39m(\u001b[38;5;28mself\u001b[39m, \u001b[38;5;28minput\u001b[39m: Tensor) \u001b[38;5;241m-\u001b[39m\u001b[38;5;241m>\u001b[39m Tensor:\n\u001b[0;32m--> 125\u001b[0m     \u001b[38;5;28;01mreturn\u001b[39;00m \u001b[43mF\u001b[49m\u001b[38;5;241;43m.\u001b[39;49m\u001b[43mlinear\u001b[49m\u001b[43m(\u001b[49m\u001b[38;5;28;43minput\u001b[39;49m\u001b[43m,\u001b[49m\u001b[43m \u001b[49m\u001b[38;5;28;43mself\u001b[39;49m\u001b[38;5;241;43m.\u001b[39;49m\u001b[43mweight\u001b[49m\u001b[43m,\u001b[49m\u001b[43m \u001b[49m\u001b[38;5;28;43mself\u001b[39;49m\u001b[38;5;241;43m.\u001b[39;49m\u001b[43mbias\u001b[49m\u001b[43m)\u001b[49m\n",
      "\u001b[0;31mKeyboardInterrupt\u001b[0m: "
     ]
    }
   ],
   "source": [
    "# get new tree\n",
    "tree = Tree(2, [FeedForward(2, 3, 1), FeedForward(2, 3, 1)])\n",
    "\n",
    "# train the tree\n",
    "from torch.optim import Adam\n",
    "from tqdm import tqdm\n",
    "from torch.optim.lr_scheduler import ExponentialLR, ReduceLROnPlateau\n",
    "\n",
    "optimisers = Adam(tree.parameters(), lr=0.01)\n",
    "\n",
    "\n",
    "scheduler = ReduceLROnPlateau(opt, \"min\", factor=0.7)\n",
    "model = baseline_models[0]\n",
    "\n",
    "n_epoch = 1000\n",
    "batch_size = 200\n",
    "mse = torch.nn.MSELoss()\n",
    "\n",
    "\n",
    "training_errors = []\n",
    "validation_errors = []\n",
    "\n",
    "for epoch in tqdm(range(n_epoch), total=n_epoch):\n",
    "    for batch_index in range(n_data // batch_size):\n",
    "        ############\n",
    "        # get batch\n",
    "        ############\n",
    "\n",
    "        start = batch_size * batch_index\n",
    "        stop = batch_size * (batch_index + 1)\n",
    "        if batch_index == (n_data // batch_size) - 1:\n",
    "            stop = n_data\n",
    "        batchX = X[start:stop]\n",
    "        batchZ = Z[start:stop]\n",
    "\n",
    "        ############\n",
    "        # train on batch\n",
    "        ############\n",
    "\n",
    "        # reset gradients\n",
    "        opt.zero_grad()\n",
    "\n",
    "        # calculate E[Loss(tree(x))] over the whole batch\n",
    "        expected_loss = 0\n",
    "        for x, z in zip(batchX, batchZ):\n",
    "            expected_loss += tree.expected_value(lambda y: mse(y, z), x)\n",
    "        expected_loss /= batch_size\n",
    "\n",
    "        # calculate gradients\n",
    "        expected_loss.backward()\n",
    "        # one step of optimisation\n",
    "        opt.step()\n",
    "\n",
    "    # collect results\n",
    "    # training error:\n",
    "    training_error = 0\n",
    "    for x, z in zip(X, Z):\n",
    "        training_error += mse(tree(x), z)\n",
    "    training_error /= n_data\n",
    "\n",
    "    validation_error = 0\n",
    "    for x, z in zip(test_X, test_Z):\n",
    "        validation_error += mse(tree(x), z)\n",
    "    validation_error /= n_data\n",
    "\n",
    "    training_errors.append(training_error)\n",
    "    validation_errors.append(validation_error)\n",
    "\n",
    "    # change learnign rate\n",
    "    scheduler.step(validation_error)\n",
    "\n",
    "    if epoch % 100 == 0:\n",
    "        print(\n",
    "            f\"Epoch #{epoch +1}: Training error: {training_error}, validaion error: {validation_error}\"\n",
    "        )"
   ]
  },
  {
   "cell_type": "markdown",
   "metadata": {},
   "source": [
    "# Primitive training + force softmax to converge to delta \n",
    "Mogoče se nam splača forsirat distribucijo (pred softmaxom..?) v to smer, da je na eni točki ful velika, drugje pa mala"
   ]
  },
  {
   "cell_type": "code",
   "execution_count": null,
   "metadata": {},
   "outputs": [],
   "source": [
    "# TODO"
   ]
  },
  {
   "cell_type": "markdown",
   "metadata": {},
   "source": [
    "# 2-step training of Tree:\n",
    "We can alternate between training the parameters of the inside linear layers and the parameters of the outside layers."
   ]
  },
  {
   "cell_type": "markdown",
   "metadata": {},
   "source": [
    "### Punish small gradients"
   ]
  },
  {
   "cell_type": "code",
   "execution_count": null,
   "metadata": {},
   "outputs": [],
   "source": [
    "# TODO\n"
   ]
  },
  {
   "cell_type": "markdown",
   "metadata": {},
   "source": [
    "### Force inner network to be perpendicular to siblings of its parents\n",
    "\n",
    "Slabo iz tega vidika, da mogoče na koncu  vseeno rabiš prevert kej, na kar smo bli pravkokotni"
   ]
  },
  {
   "cell_type": "code",
   "execution_count": null,
   "metadata": {},
   "outputs": [],
   "source": [
    "#TODO"
   ]
  },
  {
   "cell_type": "markdown",
   "metadata": {},
   "source": [
    "### Štetje ničel v vektorju za vsakim hidden layerjem"
   ]
  },
  {
   "cell_type": "code",
   "execution_count": null,
   "metadata": {},
   "outputs": [],
   "source": [
    "#TODO"
   ]
  },
  {
   "cell_type": "code",
   "execution_count": null,
   "metadata": {},
   "outputs": [
    {
     "data": {
      "text/plain": [
       "[Parameter containing:\n",
       " tensor([[ 0.6564,  0.0949],\n",
       "         [-0.4895,  0.5235]], requires_grad=True),\n",
       " Parameter containing:\n",
       " tensor([-0.0227, -0.4053], requires_grad=True),\n",
       " Parameter containing:\n",
       " tensor([[ 0.6865, -0.1527]], requires_grad=True),\n",
       " Parameter containing:\n",
       " tensor([0.2924], requires_grad=True)]"
      ]
     },
     "execution_count": 14,
     "metadata": {},
     "output_type": "execute_result"
    }
   ],
   "source": [
    "model = FeedForward(2, 2, 1)\n",
    "list(model.parameters())"
   ]
  },
  {
   "cell_type": "code",
   "execution_count": null,
   "metadata": {},
   "outputs": [
    {
     "data": {
      "text/plain": [
       "-0.7628"
      ]
     },
     "execution_count": 15,
     "metadata": {},
     "output_type": "execute_result"
    }
   ],
   "source": [
    "-0.4032  -0.3246   -0.0350"
   ]
  },
  {
   "cell_type": "code",
   "execution_count": null,
   "metadata": {},
   "outputs": [
    {
     "data": {
      "text/plain": [
       "[tensor([ 0.7286, -0.3713], grad_fn=<ViewBackward0>),\n",
       " tensor([0.7286, 0.0000], grad_fn=<ReluBackward0>),\n",
       " tensor([0.8095, 0.0000], grad_fn=<MulBackward0>),\n",
       " tensor([0.8481], grad_fn=<ViewBackward0>)]"
      ]
     },
     "execution_count": 16,
     "metadata": {},
     "output_type": "execute_result"
    }
   ],
   "source": [
    "x = torch.ones((2))\n",
    "model(x, training=True)"
   ]
  },
  {
   "cell_type": "code",
   "execution_count": null,
   "metadata": {},
   "outputs": [
    {
     "data": {
      "text/plain": [
       "(tensor([[0.7627, 0.7627],\n",
       "         [0.0000, 0.0000]], grad_fn=<TBackward0>),\n",
       " tensor([0.7627, 0.0000], grad_fn=<ViewBackward0>),\n",
       " tensor([[0.8095, 0.0000]], grad_fn=<TBackward0>),\n",
       " tensor([1.]))"
      ]
     },
     "execution_count": 17,
     "metadata": {},
     "output_type": "execute_result"
    }
   ],
   "source": [
    "\n",
    "grads = torch.autograd.grad(\n",
    "outputs=model(x),\n",
    "inputs=[p for p in model.parameters() if p.requires_grad],\n",
    "create_graph=True  # allows you to compute gradients of this gradient\n",
    ")\n",
    "grads"
   ]
  }
 ],
 "metadata": {
  "kernelspec": {
   "display_name": "venv",
   "language": "python",
   "name": "python3"
  },
  "language_info": {
   "codemirror_mode": {
    "name": "ipython",
    "version": 3
   },
   "file_extension": ".py",
   "mimetype": "text/x-python",
   "name": "python",
   "nbconvert_exporter": "python",
   "pygments_lexer": "ipython3",
   "version": "3.12.3"
  }
 },
 "nbformat": 4,
 "nbformat_minor": 2
}
