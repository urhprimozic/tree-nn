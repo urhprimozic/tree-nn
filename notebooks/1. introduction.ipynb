{
 "cells": [
  {
   "cell_type": "markdown",
   "metadata": {},
   "source": [
    "# TODO\n",
    "**BE SURE TO ADD PATH TO `src/*` TO YOUR `ENVIROMENT/LIB/PYTHONVESRION/SITEPACKAGE/tnn.pth`** !\n",
    "# Introduction to Tree NN"
   ]
  },
  {
   "cell_type": "markdown",
   "metadata": {},
   "source": [
    "## Trees and DecisionUnits"
   ]
  },
  {
   "cell_type": "code",
   "execution_count": 15,
   "metadata": {},
   "outputs": [
    {
     "data": {
      "text/plain": [
       "Tree(\n",
       "  (distribution): DecisionUnit(\n",
       "    (linear): Linear(in_features=1, out_features=2, bias=True)\n",
       "    (softmax_dim1): Softmax(dim=1)\n",
       "    (softmax_dim0): Softmax(dim=0)\n",
       "  )\n",
       ")"
      ]
     },
     "execution_count": 15,
     "metadata": {},
     "output_type": "execute_result"
    }
   ],
   "source": [
    "from tnn import DecisionUnit, Tree\n",
    "import torch\n",
    "import torch.nn as nn\n",
    "\n",
    "# simple model\n",
    "class Double(nn.Module):\n",
    "    def forward(self, x):\n",
    "        return 2 * x\n",
    "\n",
    "# tree either doubles x or leaves it\n",
    "tree= Tree(1, 2, [nn.Identity(), Double()])\n",
    "tree"
   ]
  },
  {
   "cell_type": "markdown",
   "metadata": {},
   "source": [
    "Lets sample a few outputs of this simple tree and calculate E(x)"
   ]
  },
  {
   "cell_type": "code",
   "execution_count": 25,
   "metadata": {},
   "outputs": [
    {
     "name": "stdout",
     "output_type": "stream",
     "text": [
      "input = tensor([1.])\n",
      "tensor([2.])\n",
      "tensor([2.])\n",
      "tensor([2.])\n",
      "tensor([1.])\n",
      "tensor([2.])\n",
      "E(Tree(x)) = tensor([1.7188], grad_fn=<AddBackward0>)\n"
     ]
    }
   ],
   "source": [
    "x = torch.ones((1,))\n",
    "print(f\"input = {x}\")\n",
    "for i in range(5):\n",
    "    print(tree(x, select_max=False))\n",
    "\n",
    "E = tree.expected_value(lambda z : z, x)\n",
    "print(f\"E(Tree(x)) = {E}\")"
   ]
  },
  {
   "cell_type": "code",
   "execution_count": null,
   "metadata": {},
   "outputs": [
    {
     "data": {
      "text/plain": [
       "tensor([1.])"
      ]
     },
     "execution_count": 24,
     "metadata": {},
     "output_type": "execute_result"
    }
   ],
   "source": []
  }
 ],
 "metadata": {
  "kernelspec": {
   "display_name": "venv",
   "language": "python",
   "name": "python3"
  },
  "language_info": {
   "codemirror_mode": {
    "name": "ipython",
    "version": 3
   },
   "file_extension": ".py",
   "mimetype": "text/x-python",
   "name": "python",
   "nbconvert_exporter": "python",
   "pygments_lexer": "ipython3",
   "version": "3.12.3"
  }
 },
 "nbformat": 4,
 "nbformat_minor": 2
}
