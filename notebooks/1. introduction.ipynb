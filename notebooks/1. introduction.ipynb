{
 "cells": [
  {
   "cell_type": "markdown",
   "metadata": {},
   "source": [
    "# TODO\n",
    "**BE SURE TO ADD PATH TO `src/*` TO YOUR `ENVIROMENT/LIB/PYTHONVESRION/SITEPACKAGE/tnn.pth`** !\n",
    "# Introduction to Tree NN"
   ]
  },
  {
   "cell_type": "markdown",
   "metadata": {},
   "source": [
    "## Trees and DecisionUnits"
   ]
  },
  {
   "cell_type": "code",
   "execution_count": 45,
   "metadata": {},
   "outputs": [],
   "source": [
    "from tnn import DecisionUnit, Tree\n",
    "from models import Id\n",
    "import torch\n",
    "import torch.nn as nn\n",
    "\n",
    "# simple model\n",
    "class Double(nn.Module):\n",
    "    def forward(self, x, training=None):\n",
    "        return 2 * x\n",
    "\n",
    "# tree either doubles x or leaves it\n",
    "tree= Tree(1, [Id, Double()])\n",
    "\n",
    "# For educational purpuses:\n",
    "# We will set bias to 0 and weights to 0.5\n",
    "# and get an uniform distribution over paths \n",
    "with torch.no_grad():\n",
    "    tree.distribution.linear.weight.fill_(0.5)\n",
    "    tree.distribution.linear.bias.fill_(0)"
   ]
  },
  {
   "cell_type": "markdown",
   "metadata": {},
   "source": [
    "Lets sample a few outputs of this simple tree for input $[1]$ and calculate $E([1])$"
   ]
  },
  {
   "cell_type": "code",
   "execution_count": 46,
   "metadata": {},
   "outputs": [
    {
     "name": "stdout",
     "output_type": "stream",
     "text": [
      "input = tensor([1.])\n",
      "1.0;  2.0;  2.0;  2.0;  2.0;  \n",
      "E(Tree(x)) = tensor([1.5000], grad_fn=<ViewBackward0>)\n",
      "\n",
      "BATCHED INPUT:\n",
      "input=\n",
      " tensor([[1.],\n",
      "        [1.],\n",
      "        [1.],\n",
      "        [1.]]) \n",
      "\n",
      "tree(batch):\n",
      " tensor([[2.],\n",
      "        [1.],\n",
      "        [2.],\n",
      "        [1.]])\n",
      "E(Tree(batch)) = tensor([[1.5000],\n",
      "        [1.5000],\n",
      "        [1.5000],\n",
      "        [1.5000]], grad_fn=<SumBackward1>)\n"
     ]
    }
   ],
   "source": [
    "x = torch.ones((1,))\n",
    "print(f\"input = {x}\")\n",
    "for i in range(5):\n",
    "    print(tree(x, select_max=False).item(), end=\";  \" )\n",
    "print()\n",
    "\n",
    "\n",
    "E = tree.expected_value(lambda z : z,x)\n",
    "print(f\"E(Tree(x)) = {E}\")\n",
    "\n",
    "# batched input:\n",
    "print(\"\\nBATCHED INPUT:\")\n",
    "#batch = torch.tensor([[0], [1], [2], [3]], dtype=torch.float)\n",
    "batch = torch.tensor([[1], [1], [1], [1]], dtype=torch.float)\n",
    "print(\"input=\\n\", batch, \"\\n\")\n",
    "\n",
    "print(\"tree(batch):\\n\", tree(batch, select_max=False))\n",
    "\n",
    "E = tree.expected_value(lambda z : z,batch)\n",
    "print(f\"E(Tree(batch)) = {E}\")\n",
    "\n"
   ]
  },
  {
   "cell_type": "code",
   "execution_count": 47,
   "metadata": {},
   "outputs": [
    {
     "name": "stdout",
     "output_type": "stream",
     "text": [
      "tensor(0.5000, grad_fn=<MeanBackward0>)\n",
      "tensor(0.5000, grad_fn=<MeanBackward0>)\n"
     ]
    },
    {
     "data": {
      "text/plain": [
       "tensor(0.5000, grad_fn=<MeanBackward0>)"
      ]
     },
     "execution_count": 47,
     "metadata": {},
     "output_type": "execute_result"
    }
   ],
   "source": [
    "mse = torch.nn.MSELoss()\n",
    "\n",
    "idisright = batch \n",
    "doubleisright = Double()(batch)\n",
    "\n",
    "print(tree.expected_value(lambda u : (u - idisright ) ** 2  , batch).mean())\n",
    "print(tree.expected_value(lambda u : (u - doubleisright ) ** 2  , batch).mean())\n",
    " \n",
    "tree.E_mse(batch, idisright)"
   ]
  },
  {
   "cell_type": "code",
   "execution_count": null,
   "metadata": {},
   "outputs": [],
   "source": []
  },
  {
   "cell_type": "markdown",
   "metadata": {},
   "source": [
    "# Training\n",
    "Different mothods of training will be shown. We will try to model a following function:\n",
    "$$\n",
    "f(x,y) = \\begin{cases}\n",
    "xy & x > 0, y > 0 \\\\\n",
    "x + y & x > 0, y \\leq  0 \\\\\n",
    "2x \\leq  0, y \\leq  0 \\\\ \n",
    "y & x \\leq 0, y > 0 \\\\\n",
    "\\end{cases}\n",
    "$$"
   ]
  },
  {
   "cell_type": "code",
   "execution_count": 48,
   "metadata": {},
   "outputs": [],
   "source": [
    "def f(x, y):\n",
    "    if x > 0:\n",
    "        if y > 0:\n",
    "            return x * y \n",
    "        else:\n",
    "            return x + y\n",
    "    else:\n",
    "        if y > 0:\n",
    "            return y \n",
    "        else:\n",
    "            return 2*x \n",
    "\n",
    "def vector_f(z):\n",
    "    return f(z[0], z[1])\n",
    "\n",
    "# get training data:\n",
    "n_points = 100\n",
    "n_data = n_points ** 2 \n",
    "points = torch.linspace(-5, 5, n_points)\n",
    "X = torch.zeros((n_data, 2))\n",
    "Z = torch.zeros((n_data, 1))\n",
    "for index_x in range(n_points):\n",
    "    for index_y in range(n_points):\n",
    "        x = points[index_x]\n",
    "        y = points[index_y]\n",
    "        X[index_y + index_x * n_points] = torch.tensor([x, y])\n",
    "        Z[index_y + index_x * n_points] = f(x, y)\n",
    "\n",
    "# get testing data:\n",
    "n_points_training = 31\n",
    "n_data_training = n_points_training ** 2 \n",
    "points = torch.linspace(-5, 5, n_points_training)\n",
    "test_X = torch.zeros((n_data_training, 2))\n",
    "test_Z = torch.zeros((n_data_training, 1))\n",
    "for index_x in range(n_points_training):\n",
    "    for index_y in range(n_points_training):\n",
    "        x = points[index_x]\n",
    "        y = points[index_y]\n",
    "        test_X[index_y + index_x * n_points_training] = torch.tensor([x, y])\n",
    "        test_Z[index_y + index_x * n_points_training] = f(x, y)\n",
    "\n"
   ]
  },
  {
   "cell_type": "code",
   "execution_count": 49,
   "metadata": {},
   "outputs": [
    {
     "data": {
      "text/plain": [
       "(torch.Size([10000, 2]), torch.Size([10000, 1]))"
      ]
     },
     "execution_count": 49,
     "metadata": {},
     "output_type": "execute_result"
    }
   ],
   "source": [
    "for i in range(X.shape[0]):\n",
    "    if not (Z[i] == vector_f(X[i])):\n",
    "        raise ValueError\n",
    "X.shape, Z.shape"
   ]
  },
  {
   "cell_type": "markdown",
   "metadata": {},
   "source": [
    "## Shallow Tree model"
   ]
  },
  {
   "cell_type": "code",
   "execution_count": 50,
   "metadata": {},
   "outputs": [
    {
     "data": {
      "text/plain": [
       "38"
      ]
     },
     "execution_count": 50,
     "metadata": {},
     "output_type": "execute_result"
    }
   ],
   "source": [
    "from models import FeedForward\n",
    "# get new tree\n",
    "tree = Tree(2, [FeedForward(2, 3, 1), FeedForward(2, 3, 1)], head=FeedForward(2,2))\n",
    "\n",
    "tree.n_params()"
   ]
  },
  {
   "cell_type": "markdown",
   "metadata": {},
   "source": [
    "## Baseline \n",
    "We will compare the performance of different training settings to different simple Feedforward networks with the similar numbers of parameters"
   ]
  },
  {
   "cell_type": "code",
   "execution_count": 51,
   "metadata": {},
   "outputs": [],
   "source": [
    "# tree has  6 + 6 + 13 + 13 = 38 parameters (6 for decision unit, 13 for Feedforward networks in leafs, 6 for feedforward in head)\n",
    "n_params = tree.n_params()\n",
    "baseline_models = [FeedForward(2,4,4 , 1), FeedForward(2,4,4,1), FeedForward(2, 10, 1)   ]"
   ]
  },
  {
   "cell_type": "code",
   "execution_count": 52,
   "metadata": {},
   "outputs": [
    {
     "name": "stderr",
     "output_type": "stream",
     "text": [
      "  3%|▎         | 3/100 [00:00<00:10,  9.19it/s]"
     ]
    },
    {
     "name": "stdout",
     "output_type": "stream",
     "text": [
      "Epoch #1: Training error: 25.141742706298828, validaion error: 26.392580032348633\n"
     ]
    },
    {
     "name": "stderr",
     "output_type": "stream",
     "text": [
      "100%|██████████| 100/100 [00:08<00:00, 11.56it/s]\n"
     ]
    }
   ],
   "source": [
    "from torch.optim import Adam\n",
    "from tqdm import tqdm\n",
    "from torch.optim.lr_scheduler import ExponentialLR, ReduceLROnPlateau\n",
    "\n",
    "optimisers = [Adam(model.parameters(), lr=0.01) for model in baseline_models]\n",
    "\n",
    "\n",
    "opt = optimisers[0]\n",
    "scheduler = ReduceLROnPlateau(opt, 'min', factor=0.7)\n",
    "model = baseline_models[0]\n",
    "\n",
    "n_epoch = 100\n",
    "batch_size = 200\n",
    "mse = torch.nn.MSELoss()\n",
    "\n",
    "\n",
    "training_errors = []\n",
    "validation_errors = [] \n",
    "\n",
    "for epoch in tqdm(range(n_epoch), total=n_epoch):\n",
    "    for batch_index in range(n_data // batch_size):\n",
    "        ############\n",
    "        # get batch\n",
    "        ############\n",
    "\n",
    "        start = batch_size * batch_index\n",
    "        stop = batch_size * (batch_index + 1)\n",
    "        if batch_index == (n_data // batch_size) - 1:\n",
    "            stop = n_data\n",
    "        batchX = X[start:stop]\n",
    "        batchZ = Z[start:stop]\n",
    "\n",
    "        ############\n",
    "        # train on batch\n",
    "        ############\n",
    "\n",
    "        # reset gradients\n",
    "        opt.zero_grad()\n",
    "        # get predictions and cost function\n",
    "        outputs = model(batchX)\n",
    "        loss = mse(outputs, batchZ)\n",
    "        # calculate gradients\n",
    "        loss.backward()\n",
    "        # one step of optimisation\n",
    "        opt.step()\n",
    "    \n",
    "\n",
    "    # collect results\n",
    "    training_error = mse(model(X), Z)\n",
    "    validation_error = mse(model(test_X), test_Z)\n",
    "    training_errors.append(training_error)\n",
    "    validation_errors.append(validation_error)\n",
    "\n",
    "\n",
    "    # change learnign rate\n",
    "    scheduler.step(validation_error)\n",
    "\n",
    "    if epoch % 100 == 0:\n",
    "        print(f\"Epoch #{epoch +1}: Training error: {training_error}, validaion error: {validation_error}\")"
   ]
  },
  {
   "cell_type": "code",
   "execution_count": 53,
   "metadata": {},
   "outputs": [
    {
     "data": {
      "image/png": "[encoded data removed]",
      "text/plain": [
       "<Figure size 640x480 with 1 Axes>"
      ]
     },
     "metadata": {},
     "output_type": "display_data"
    }
   ],
   "source": [
    "# plot errors\n",
    "import matplotlib.pyplot as plt\n",
    "\n",
    "#deatach all \n",
    "def deatach_list(lst):\n",
    "    ans = []\n",
    "    for x in lst:\n",
    "        y = x.detach().numpy()\n",
    "        ans.append(y)\n",
    "    return ans\n",
    "\n",
    "\n",
    "plt.plot(deatach_list(training_errors), label=\"training error\")\n",
    "plt.plot(deatach_list(validation_errors), label=\"validation error\")\n",
    "plt.legend()\n",
    "plt.title(\"Training and validation loss of feedforward model\")\n",
    "plt.show()\n",
    "# save for later\n",
    "training_errors_feedforward = training_errors\n",
    "validation_errors_feedforward = validation_errors\n"
   ]
  },
  {
   "cell_type": "markdown",
   "metadata": {},
   "source": [
    "## Primitive training without additional cost function\n",
    "We can just minimalize E[L(x)]. Bad performance expected."
   ]
  },
  {
   "cell_type": "code",
   "execution_count": 54,
   "metadata": {},
   "outputs": [],
   "source": [
    "# get new tree\n",
    "tree = Tree(2, [FeedForward(2, 3, 1), FeedForward(2, 3, 1)], head=FeedForward(2,2))\n"
   ]
  },
  {
   "cell_type": "code",
   "execution_count": 55,
   "metadata": {},
   "outputs": [
    {
     "name": "stderr",
     "output_type": "stream",
     "text": [
      "  1%|          | 1/100 [00:00<00:25,  3.84it/s]"
     ]
    },
    {
     "name": "stdout",
     "output_type": "stream",
     "text": [
      "Epoch #1: Training error: 23.83563995361328, validaion error: 25.57822036743164\n"
     ]
    },
    {
     "name": "stderr",
     "output_type": "stream",
     "text": [
      " 11%|█         | 11/100 [00:03<00:33,  2.70it/s]"
     ]
    },
    {
     "name": "stdout",
     "output_type": "stream",
     "text": [
      "Epoch #11: Training error: 6.989557266235352, validaion error: 7.701620101928711\n"
     ]
    },
    {
     "name": "stderr",
     "output_type": "stream",
     "text": [
      " 21%|██        | 21/100 [00:07<00:29,  2.72it/s]"
     ]
    },
    {
     "name": "stdout",
     "output_type": "stream",
     "text": [
      "Epoch #21: Training error: 5.659061908721924, validaion error: 6.080226421356201\n"
     ]
    },
    {
     "name": "stderr",
     "output_type": "stream",
     "text": [
      " 31%|███       | 31/100 [00:10<00:25,  2.72it/s]"
     ]
    },
    {
     "name": "stdout",
     "output_type": "stream",
     "text": [
      "Epoch #31: Training error: 4.33560848236084, validaion error: 4.6836628913879395\n"
     ]
    },
    {
     "name": "stderr",
     "output_type": "stream",
     "text": [
      " 41%|████      | 41/100 [00:13<00:19,  3.05it/s]"
     ]
    },
    {
     "name": "stdout",
     "output_type": "stream",
     "text": [
      "Epoch #41: Training error: 3.8609957695007324, validaion error: 4.511529922485352\n"
     ]
    },
    {
     "name": "stderr",
     "output_type": "stream",
     "text": [
      " 51%|█████     | 51/100 [00:17<00:16,  2.90it/s]"
     ]
    },
    {
     "name": "stdout",
     "output_type": "stream",
     "text": [
      "Epoch #51: Training error: 3.734018325805664, validaion error: 4.860252380371094\n"
     ]
    },
    {
     "name": "stderr",
     "output_type": "stream",
     "text": [
      " 61%|██████    | 61/100 [00:20<00:11,  3.33it/s]"
     ]
    },
    {
     "name": "stdout",
     "output_type": "stream",
     "text": [
      "Epoch #61: Training error: 3.450355052947998, validaion error: 3.511467218399048\n"
     ]
    },
    {
     "name": "stderr",
     "output_type": "stream",
     "text": [
      " 71%|███████   | 71/100 [00:25<00:15,  1.85it/s]"
     ]
    },
    {
     "name": "stdout",
     "output_type": "stream",
     "text": [
      "Epoch #71: Training error: 3.430189847946167, validaion error: 3.6100995540618896\n"
     ]
    },
    {
     "name": "stderr",
     "output_type": "stream",
     "text": [
      " 81%|████████  | 81/100 [00:30<00:10,  1.74it/s]"
     ]
    },
    {
     "name": "stdout",
     "output_type": "stream",
     "text": [
      "Epoch #81: Training error: 3.3563787937164307, validaion error: 3.5385148525238037\n"
     ]
    },
    {
     "name": "stderr",
     "output_type": "stream",
     "text": [
      " 91%|█████████ | 91/100 [00:34<00:03,  2.88it/s]"
     ]
    },
    {
     "name": "stdout",
     "output_type": "stream",
     "text": [
      "Epoch #91: Training error: 3.1841444969177246, validaion error: 4.0829176902771\n"
     ]
    },
    {
     "name": "stderr",
     "output_type": "stream",
     "text": [
      "100%|██████████| 100/100 [00:37<00:00,  2.68it/s]\n"
     ]
    }
   ],
   "source": [
    "\n",
    "\n",
    "# train the tree\n",
    "from torch.optim import Adam\n",
    "from tqdm import tqdm\n",
    "from torch.optim.lr_scheduler import ExponentialLR, ReduceLROnPlateau\n",
    "\n",
    "opt = Adam(tree.parameters(), lr=0.01)\n",
    "\n",
    "\n",
    "scheduler = ReduceLROnPlateau(opt, \"min\", factor=0.7)\n",
    "model = baseline_models[0]\n",
    "\n",
    "n_epoch = 100\n",
    "batch_size = 200\n",
    "mse = torch.nn.MSELoss()\n",
    "\n",
    "\n",
    "training_errors = []\n",
    "validation_errors = []\n",
    "\n",
    "for epoch in tqdm(range(n_epoch), total=n_epoch):\n",
    "    for batch_index in range(n_data // batch_size):\n",
    "        ############\n",
    "        # get batch\n",
    "        ############\n",
    "\n",
    "        start = batch_size * batch_index\n",
    "        stop = batch_size * (batch_index + 1)\n",
    "        if batch_index == (n_data // batch_size) - 1:\n",
    "            stop = n_data\n",
    "        batchX = X[start:stop]\n",
    "        batchZ = Z[start:stop]\n",
    "\n",
    "        ############\n",
    "        # train on batch\n",
    "        ############\n",
    "\n",
    "        # reset gradients\n",
    "        opt.zero_grad()\n",
    "        # get E(loss(branch(X))) - still of batch size\n",
    "\n",
    "        expected_loss = tree.E_mse(batchX, batchZ)\n",
    "        \n",
    "        \n",
    "        # get mean\n",
    "        expected_loss = torch.mean(expected_loss, dim=0)\n",
    "        \n",
    "\n",
    "        # calculate gradients\n",
    "        expected_loss.backward()\n",
    "\n",
    "\n",
    "        # one step of optimisation\n",
    "        opt.step()\n",
    "\n",
    "    # collect results\n",
    "    # training error:\n",
    "    training_error = mse(tree(X), Z)\n",
    "    validation_error = mse(tree(test_X), test_Z)\n",
    "\n",
    "    training_errors.append(training_error)\n",
    "    validation_errors.append(validation_error)\n",
    "\n",
    "    # change learnign rate\n",
    "    scheduler.step(validation_error)\n",
    "\n",
    "    if epoch % 10 == 0:\n",
    "        print(\n",
    "            f\"Epoch #{epoch +1}: Training error: {training_error}, validaion error: {validation_error}\"\n",
    "        )\n",
    "        "
   ]
  },
  {
   "cell_type": "code",
   "execution_count": null,
   "metadata": {},
   "outputs": [],
   "source": []
  },
  {
   "cell_type": "code",
   "execution_count": 56,
   "metadata": {},
   "outputs": [
    {
     "data": {
      "image/png": "[encoded data removed]",
      "text/plain": [
       "<Figure size 640x480 with 1 Axes>"
      ]
     },
     "metadata": {},
     "output_type": "display_data"
    }
   ],
   "source": [
    "# plot errors\n",
    "import matplotlib.pyplot as plt\n",
    "\n",
    "#deatach all \n",
    "def deatach_list(lst):\n",
    "    ans = []\n",
    "    for x in lst:\n",
    "        y = x.detach().numpy()\n",
    "        ans.append(y)\n",
    "    return ans\n",
    "\n",
    "\n",
    "plt.plot(deatach_list(training_errors), label=\"training error of Tree\")\n",
    "plt.plot(deatach_list(validation_errors), label=\"validation error of Tree\")\n",
    "plt.plot(deatach_list(training_errors_feedforward), label=\"training error of Feedforward\")\n",
    "plt.plot(deatach_list(validation_errors_feedforward), label=\"training error of Feedforward\")\n",
    "plt.legend()\n",
    "plt.title(\"Tree with loss = E(MSE) vs feedforward, the same hyperparameters\")\n",
    "plt.show()\n"
   ]
  },
  {
   "cell_type": "markdown",
   "metadata": {},
   "source": [
    "# Primitive training + force softmax to converge to delta \n",
    "Mogoče se nam splača forsirat distribucijo (pred softmaxom..?) v to smer, da je na eni točki ful velika, drugje pa mala"
   ]
  },
  {
   "cell_type": "code",
   "execution_count": 57,
   "metadata": {},
   "outputs": [],
   "source": [
    "# TODO"
   ]
  },
  {
   "cell_type": "markdown",
   "metadata": {},
   "source": [
    "# 2-step training of Tree:\n",
    "We can alternate between training the parameters of the inside linear layers and the parameters of the outside layers."
   ]
  },
  {
   "cell_type": "markdown",
   "metadata": {},
   "source": [
    "### Punish small gradients"
   ]
  },
  {
   "cell_type": "code",
   "execution_count": 58,
   "metadata": {},
   "outputs": [],
   "source": [
    "# TODO\n"
   ]
  },
  {
   "cell_type": "markdown",
   "metadata": {},
   "source": [
    "### Force inner network to be perpendicular to siblings of its parents\n",
    "\n",
    "Slabo iz tega vidika, da mogoče na koncu  vseeno rabiš prevert kej, na kar smo bli pravkokotni"
   ]
  },
  {
   "cell_type": "code",
   "execution_count": 59,
   "metadata": {},
   "outputs": [],
   "source": [
    "#TODO"
   ]
  },
  {
   "cell_type": "markdown",
   "metadata": {},
   "source": [
    "### Štetje ničel v vektorju za vsakim hidden layerjem"
   ]
  },
  {
   "cell_type": "code",
   "execution_count": 60,
   "metadata": {},
   "outputs": [],
   "source": [
    "#TODO"
   ]
  },
  {
   "cell_type": "code",
   "execution_count": 61,
   "metadata": {},
   "outputs": [
    {
     "data": {
      "text/plain": [
       "[Parameter containing:\n",
       " tensor([[-0.6311,  0.4256],\n",
       "         [-0.1279, -0.2695]], requires_grad=True),\n",
       " Parameter containing:\n",
       " tensor([-0.1314, -0.2994], requires_grad=True),\n",
       " Parameter containing:\n",
       " tensor([[-0.6608, -0.2773]], requires_grad=True),\n",
       " Parameter containing:\n",
       " tensor([0.2314], requires_grad=True)]"
      ]
     },
     "execution_count": 61,
     "metadata": {},
     "output_type": "execute_result"
    }
   ],
   "source": [
    "model = FeedForward(2, 2, 1)\n",
    "list(model.parameters())"
   ]
  },
  {
   "cell_type": "code",
   "execution_count": 62,
   "metadata": {},
   "outputs": [
    {
     "data": {
      "text/plain": [
       "-0.7628"
      ]
     },
     "execution_count": 62,
     "metadata": {},
     "output_type": "execute_result"
    }
   ],
   "source": [
    "-0.4032  -0.3246   -0.0350"
   ]
  },
  {
   "cell_type": "code",
   "execution_count": 63,
   "metadata": {},
   "outputs": [
    {
     "data": {
      "text/plain": [
       "[tensor([-0.3370, -0.6968], grad_fn=<ViewBackward0>),\n",
       " tensor([0., 0.], grad_fn=<ReluBackward0>),\n",
       " tensor([0., 0.], grad_fn=<MulBackward0>),\n",
       " tensor([0.2314], grad_fn=<ViewBackward0>)]"
      ]
     },
     "execution_count": 63,
     "metadata": {},
     "output_type": "execute_result"
    }
   ],
   "source": [
    "x = torch.ones((2))\n",
    "model(x, training=True)"
   ]
  },
  {
   "cell_type": "code",
   "execution_count": 64,
   "metadata": {},
   "outputs": [
    {
     "data": {
      "text/plain": [
       "(tensor([[0., 0.],\n",
       "         [0., 0.]], grad_fn=<TBackward0>),\n",
       " tensor([0., 0.], grad_fn=<ViewBackward0>),\n",
       " tensor([[0., 0.]], grad_fn=<TBackward0>),\n",
       " tensor([1.]))"
      ]
     },
     "execution_count": 64,
     "metadata": {},
     "output_type": "execute_result"
    }
   ],
   "source": [
    "\n",
    "grads = torch.autograd.grad(\n",
    "outputs=model(x),\n",
    "inputs=[p for p in model.parameters() if p.requires_grad],\n",
    "create_graph=True  # allows you to compute gradients of this gradient\n",
    ")\n",
    "grads"
   ]
  }
 ],
 "metadata": {
  "kernelspec": {
   "display_name": "venv",
   "language": "python",
   "name": "python3"
  },
  "language_info": {
   "codemirror_mode": {
    "name": "ipython",
    "version": 3
   },
   "file_extension": ".py",
   "mimetype": "text/x-python",
   "name": "python",
   "nbconvert_exporter": "python",
   "pygments_lexer": "ipython3",
   "version": "3.12.3"
  }
 },
 "nbformat": 4,
 "nbformat_minor": 2
}
